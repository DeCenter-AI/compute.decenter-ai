{
 "cells": [
  {
   "cell_type": "code",
   "execution_count": null,
   "metadata": {},
   "outputs": [],
   "source": [
    "import os\n",
    "from dataclasses import dataclass\n",
    "\n",
    "from dotenv import load_dotenv\n",
    "\n",
    "from icecream import ic\n",
    "from lighthouseweb3 import Lighthouse\n",
    "\n",
    "lh = Lighthouse(token='287cd8ac.6202ad1cca9c465a831c30b621ea09a8')"
   ]
  },
  {
   "cell_type": "code",
   "execution_count": null,
   "metadata": {},
   "outputs": [],
   "source": [
    "@dataclass\n",
    "class LighthouseFile:\n",
    "    name: str\n",
    "    hash: str\n",
    "    size: str\n",
    "\n",
    "    @property\n",
    "    def uploaded_url(self):\n",
    "        return f\"https://gateway.lighthouse.storage/ipfs/{self.hash}\"\n",
    "  "
   ]
  },
  {
   "cell_type": "code",
   "execution_count": null,
   "metadata": {},
   "outputs": [],
   "source": [
    "def upload(path: str) -> LighthouseFile:\n",
    "    response = lh.upload(path)\n",
    "    ic(response)\n",
    "\n",
    "    data = response['data']\n",
    "    upFile = LighthouseFile(data['Name'], data['Hash'], data['Size'])\n",
    "\n",
    "    return upFile"
   ]
  },
  {
   "cell_type": "code",
   "execution_count": null,
   "metadata": {},
   "outputs": [],
   "source": [
    "def download(cid: str, path_to_save: str) -> LighthouseFile:\n",
    "    with open(path_to_save, 'w') as f1:\n",
    "        res = lh.downloadBlob(f1.buffer, cid)\n",
    "        ic(f\"ligthouse:downloaded {path_to_save}\")\n",
    "        data = response['data']\n",
    "        upF1 = LighthouseFile(cid, data['Hash'], data['Size'])\n",
    "        ic(upF1)\n",
    "        return upF1"
   ]
  },
  {
   "cell_type": "code",
   "execution_count": null,
   "metadata": {},
   "outputs": [
    {
     "data": {
      "text/plain": [
       "'/Users/hiro/Decenter/compute.decenter-ai/web3'"
      ]
     },
     "execution_count": 5,
     "metadata": {},
     "output_type": "execute_result"
    }
   ],
   "source": [
    "os.getcwd()"
   ]
  },
  {
   "cell_type": "code",
   "execution_count": null,
   "metadata": {},
   "outputs": [
    {
     "name": "stderr",
     "output_type": "stream",
     "text": [
      "ic| response: {'data': {'Hash': 'QmP9xCDVx4N5uVNezeurdepMn9nrynpvuYVvVAZNPmYn1x',\n",
      "                        'Name': 'simple-linear-regression.zip',\n",
      "                        'Size': '19310'}}\n"
     ]
    },
    {
     "data": {
      "text/plain": [
       "LighthouseFile(name='simple-linear-regression.zip', hash='QmP9xCDVx4N5uVNezeurdepMn9nrynpvuYVvVAZNPmYn1x', size='19310')"
      ]
     },
     "execution_count": 6,
     "metadata": {},
     "output_type": "execute_result"
    }
   ],
   "source": [
    "upload('../samples/kaggle/inputs/simple-linear-regression.zip')"
   ]
  },
  {
   "cell_type": "code",
   "execution_count": null,
   "metadata": {},
   "outputs": [
    {
     "name": "stderr",
     "output_type": "stream",
     "text": [
      "ic| response: {'data': {'Hash': 'QmRad3MUL5ni3anPE5eU7UUSL3GyPk9kuuH39xA8br8J8d',\n",
      "                        'Name': 'decenter-model-simple-linear-regression.zip',\n",
      "                        'Size': '120951'}}\n"
     ]
    },
    {
     "data": {
      "text/plain": [
       "LighthouseFile(name='decenter-model-simple-linear-regression.zip', hash='QmRad3MUL5ni3anPE5eU7UUSL3GyPk9kuuH39xA8br8J8d', size='120951')"
      ]
     },
     "execution_count": 7,
     "metadata": {},
     "output_type": "execute_result"
    }
   ],
   "source": [
    "upload('../samples/kaggle/outputs/decenter-model-simple-linear-regression.zip')"
   ]
  },
  {
   "cell_type": "code",
   "execution_count": null,
   "metadata": {},
   "outputs": [
    {
     "name": "stderr",
     "output_type": "stream",
     "text": [
      "ic| response: {'data': {'Hash': 'QmRwvooN7Yfa6Gx8aVcf5cV7MAAMHmo5Q5JTt5234jf3qo',\n",
      "                        'Name': 'headbrain.zip',\n",
      "                        'Size': '4033'}}\n"
     ]
    },
    {
     "name": "stdout",
     "output_type": "stream",
     "text": [
      "https://gateway.lighthouse.storage/ipfs/QmRwvooN7Yfa6Gx8aVcf5cV7MAAMHmo5Q5JTt5234jf3qo\n"
     ]
    }
   ],
   "source": [
    "uploaded = upload('../samples/kaggle/inputs/headbrain.zip')\n",
    "print(uploaded.uploaded_url)"
   ]
  },
  {
   "cell_type": "code",
   "execution_count": null,
   "metadata": {},
   "outputs": [
    {
     "data": {
      "text/plain": [
       "'xhttps://gateway.lighthouse.storage/ipfs/QmRwvooN7Yfa6Gx8aVcf5cV7MAAMHmo5Q5JTt5234jf3qo'"
      ]
     },
     "execution_count": 16,
     "metadata": {},
     "output_type": "execute_result"
    }
   ],
   "source": [
    "'x'+str(uploaded.uploaded_url)\n"
   ]
  },
  {
   "cell_type": "code",
   "execution_count": null,
   "metadata": {},
   "outputs": [],
   "source": []
  }
 ],
 "metadata": {
  "kernelspec": {
   "display_name": "ml",
   "language": "python",
   "name": "python3"
  },
  "language_info": {
   "codemirror_mode": {
    "name": "ipython",
    "version": 3
   },
   "file_extension": ".py",
   "mimetype": "text/x-python",
   "name": "python",
   "nbconvert_exporter": "python",
   "pygments_lexer": "ipython3",
   "version": "3.10.12"
  },
  "orig_nbformat": 4
 },
 "nbformat": 4,
 "nbformat_minor": 2
}
