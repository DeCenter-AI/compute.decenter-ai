{
 "cells": [
  {
   "cell_type": "code",
   "execution_count": 1,
   "metadata": {},
   "outputs": [],
   "source": [
    "import os\n",
    "from dataclasses import dataclass\n",
    "\n",
    "from dotenv import load_dotenv\n",
    "\n",
    "from icecream import ic\n",
    "from lighthouseweb3 import Lighthouse\n",
    "\n",
    "lh = Lighthouse(token='287cd8ac.6202ad1cca9c465a831c30b621ea09a8')"
   ]
  },
  {
   "cell_type": "code",
   "execution_count": 2,
   "metadata": {},
   "outputs": [],
   "source": [
    "@dataclass\n",
    "class LighthouseFile:\n",
    "    name: str\n",
    "    hash: str\n",
    "    size: str\n",
    "\n",
    "    @property\n",
    "    def uploaded_url(self):\n",
    "        return f\"https://gateway.lighthouse.storage/ipfs/{self.hash}\"\n",
    "  "
   ]
  },
  {
   "cell_type": "code",
   "execution_count": 3,
   "metadata": {},
   "outputs": [],
   "source": [
    "def upload(path: str) -> LighthouseFile:\n",
    "    response = lh.upload(path)\n",
    "    ic(response)\n",
    "\n",
    "    data = response['data']\n",
    "    upFile = LighthouseFile(data['Name'], data['Hash'], data['Size'])\n",
    "\n",
    "    return upFile"
   ]
  },
  {
   "cell_type": "code",
   "execution_count": 4,
   "metadata": {},
   "outputs": [],
   "source": [
    "def download(cid: str, path_to_save: str) -> LighthouseFile:\n",
    "    with open(path_to_save, 'w') as f1:\n",
    "        res = lh.downloadBlob(f1.buffer, cid)\n",
    "        ic(f\"ligthouse:downloaded {path_to_save}\")\n",
    "        data = response['data']\n",
    "        upF1 = LighthouseFile(cid, data['Hash'], data['Size'])\n",
    "        ic(upF1)\n",
    "        return upF1"
   ]
  },
  {
   "cell_type": "code",
   "execution_count": 5,
   "metadata": {},
   "outputs": [
    {
     "data": {
      "text/plain": [
       "'/Users/hiro/Decenter/compute.decenter-ai/web3'"
      ]
     },
     "execution_count": 5,
     "metadata": {},
     "output_type": "execute_result"
    }
   ],
   "source": [
    "os.getcwd()"
   ]
  },
  {
   "cell_type": "code",
   "execution_count": 6,
   "metadata": {},
   "outputs": [
    {
     "name": "stdout",
     "output_type": "stream",
     "text": [
      "local variable 'files' referenced before assignment\n"
     ]
    },
    {
     "ename": "UnboundLocalError",
     "evalue": "local variable 'files' referenced before assignment",
     "output_type": "error",
     "traceback": [
      "\u001b[0;31m---------------------------------------------------------------------------\u001b[0m",
      "\u001b[0;31mFileNotFoundError\u001b[0m                         Traceback (most recent call last)",
      "File \u001b[0;32m~/miniconda3/envs/ml/lib/python3.10/site-packages/lighthouseweb3/functions/axios.py:48\u001b[0m, in \u001b[0;36mAxios.post_files\u001b[0;34m(self, file, headers, **kwargs)\u001b[0m\n\u001b[1;32m     47\u001b[0m \u001b[39mself\u001b[39m\u001b[39m.\u001b[39mparse_url_query(kwargs\u001b[39m.\u001b[39mget(\u001b[39m\"\u001b[39m\u001b[39mquery\u001b[39m\u001b[39m\"\u001b[39m, \u001b[39mNone\u001b[39;00m))\n\u001b[0;32m---> 48\u001b[0m files \u001b[39m=\u001b[39m utils\u001b[39m.\u001b[39;49mread_files_for_upload(file)\n\u001b[1;32m     49\u001b[0m r \u001b[39m=\u001b[39m req\u001b[39m.\u001b[39mpost(\u001b[39mself\u001b[39m\u001b[39m.\u001b[39murl, headers\u001b[39m=\u001b[39mheaders, files\u001b[39m=\u001b[39mfiles)\n",
      "File \u001b[0;32m~/miniconda3/envs/ml/lib/python3.10/site-packages/lighthouseweb3/functions/utils.py:68\u001b[0m, in \u001b[0;36mread_files_for_upload\u001b[0;34m(files)\u001b[0m\n\u001b[1;32m     62\u001b[0m     \u001b[39melse\u001b[39;00m:\n\u001b[1;32m     63\u001b[0m         file_list\u001b[39m.\u001b[39mappend(\n\u001b[1;32m     64\u001b[0m             (\n\u001b[1;32m     65\u001b[0m                 \u001b[39m\"\u001b[39m\u001b[39mfile\u001b[39m\u001b[39m\"\u001b[39m,\n\u001b[1;32m     66\u001b[0m                 (\n\u001b[1;32m     67\u001b[0m                     extract_file_name(file),\n\u001b[0;32m---> 68\u001b[0m                     \u001b[39mopen\u001b[39;49m(file, \u001b[39m\"\u001b[39;49m\u001b[39mrb\u001b[39;49m\u001b[39m\"\u001b[39;49m),\n\u001b[1;32m     69\u001b[0m                     \u001b[39m\"\u001b[39m\u001b[39mapplication/octet-stream\u001b[39m\u001b[39m\"\u001b[39m,\n\u001b[1;32m     70\u001b[0m                 ),\n\u001b[1;32m     71\u001b[0m             ),\n\u001b[1;32m     72\u001b[0m         )\n\u001b[1;32m     73\u001b[0m \u001b[39mreturn\u001b[39;00m file_list\n",
      "\u001b[0;31mFileNotFoundError\u001b[0m: [Errno 2] No such file or directory: '../samples/kaggle/inputs/simple-linear-regression.zip'",
      "\nDuring handling of the above exception, another exception occurred:\n",
      "\u001b[0;31mUnboundLocalError\u001b[0m                         Traceback (most recent call last)",
      "\u001b[1;32m/Users/hiro/Decenter/compute.decenter-ai/web3/lighthouse.ipynb Cell 6\u001b[0m line \u001b[0;36m1\n\u001b[0;32m----> <a href='vscode-notebook-cell:/Users/hiro/Decenter/compute.decenter-ai/web3/lighthouse.ipynb#W5sZmlsZQ%3D%3D?line=0'>1</a>\u001b[0m upload(\u001b[39m'\u001b[39;49m\u001b[39m../samples/kaggle/inputs/simple-linear-regression.zip\u001b[39;49m\u001b[39m'\u001b[39;49m)\n",
      "\u001b[1;32m/Users/hiro/Decenter/compute.decenter-ai/web3/lighthouse.ipynb Cell 6\u001b[0m line \u001b[0;36m2\n\u001b[1;32m      <a href='vscode-notebook-cell:/Users/hiro/Decenter/compute.decenter-ai/web3/lighthouse.ipynb#W5sZmlsZQ%3D%3D?line=0'>1</a>\u001b[0m \u001b[39mdef\u001b[39;00m \u001b[39mupload\u001b[39m(path: \u001b[39mstr\u001b[39m) \u001b[39m-\u001b[39m\u001b[39m>\u001b[39m LighthouseFile:\n\u001b[0;32m----> <a href='vscode-notebook-cell:/Users/hiro/Decenter/compute.decenter-ai/web3/lighthouse.ipynb#W5sZmlsZQ%3D%3D?line=1'>2</a>\u001b[0m     response \u001b[39m=\u001b[39m lh\u001b[39m.\u001b[39;49mupload(path)\n\u001b[1;32m      <a href='vscode-notebook-cell:/Users/hiro/Decenter/compute.decenter-ai/web3/lighthouse.ipynb#W5sZmlsZQ%3D%3D?line=2'>3</a>\u001b[0m     ic(response)\n\u001b[1;32m      <a href='vscode-notebook-cell:/Users/hiro/Decenter/compute.decenter-ai/web3/lighthouse.ipynb#W5sZmlsZQ%3D%3D?line=4'>5</a>\u001b[0m     data \u001b[39m=\u001b[39m response[\u001b[39m'\u001b[39m\u001b[39mdata\u001b[39m\u001b[39m'\u001b[39m]\n",
      "File \u001b[0;32m~/miniconda3/envs/ml/lib/python3.10/site-packages/lighthouseweb3/__init__.py:26\u001b[0m, in \u001b[0;36mLighthouse.upload\u001b[0;34m(self, source, tag)\u001b[0m\n\u001b[1;32m     24\u001b[0m     \u001b[39mreturn\u001b[39;00m d\u001b[39m.\u001b[39mupload(source, \u001b[39mself\u001b[39m\u001b[39m.\u001b[39mtoken, tag)\n\u001b[1;32m     25\u001b[0m \u001b[39mexcept\u001b[39;00m \u001b[39mException\u001b[39;00m \u001b[39mas\u001b[39;00m e:\n\u001b[0;32m---> 26\u001b[0m     \u001b[39mraise\u001b[39;00m e\n",
      "File \u001b[0;32m~/miniconda3/envs/ml/lib/python3.10/site-packages/lighthouseweb3/__init__.py:24\u001b[0m, in \u001b[0;36mLighthouse.upload\u001b[0;34m(self, source, tag)\u001b[0m\n\u001b[1;32m     17\u001b[0m \u001b[39m\u001b[39m\u001b[39m\"\"\"\u001b[39;00m\n\u001b[1;32m     18\u001b[0m \u001b[39mUpload a file or directory to the Lighthouse.\u001b[39;00m\n\u001b[1;32m     19\u001b[0m \n\u001b[1;32m     20\u001b[0m \u001b[39m:param source: str, path to file or directory\u001b[39;00m\n\u001b[1;32m     21\u001b[0m \u001b[39m:return: t.Upload, the upload result\u001b[39;00m\n\u001b[1;32m     22\u001b[0m \u001b[39m\"\"\"\u001b[39;00m\n\u001b[1;32m     23\u001b[0m \u001b[39mtry\u001b[39;00m:\n\u001b[0;32m---> 24\u001b[0m     \u001b[39mreturn\u001b[39;00m d\u001b[39m.\u001b[39;49mupload(source, \u001b[39mself\u001b[39;49m\u001b[39m.\u001b[39;49mtoken, tag)\n\u001b[1;32m     25\u001b[0m \u001b[39mexcept\u001b[39;00m \u001b[39mException\u001b[39;00m \u001b[39mas\u001b[39;00m e:\n\u001b[1;32m     26\u001b[0m     \u001b[39mraise\u001b[39;00m e\n",
      "File \u001b[0;32m~/miniconda3/envs/ml/lib/python3.10/site-packages/lighthouseweb3/functions/upload.py:56\u001b[0m, in \u001b[0;36mupload\u001b[0;34m(source, token, tag)\u001b[0m\n\u001b[1;32m     54\u001b[0m \u001b[39mexcept\u001b[39;00m \u001b[39mException\u001b[39;00m \u001b[39mas\u001b[39;00m e:\n\u001b[1;32m     55\u001b[0m     \u001b[39mprint\u001b[39m(e)\n\u001b[0;32m---> 56\u001b[0m     \u001b[39mraise\u001b[39;00m e\n",
      "File \u001b[0;32m~/miniconda3/envs/ml/lib/python3.10/site-packages/lighthouseweb3/functions/upload.py:42\u001b[0m, in \u001b[0;36mupload\u001b[0;34m(source, token, tag)\u001b[0m\n\u001b[1;32m     40\u001b[0m         file_dict[\u001b[39m\"\u001b[39m\u001b[39mis_dir\u001b[39m\u001b[39m\"\u001b[39m] \u001b[39m=\u001b[39m \u001b[39mFalse\u001b[39;00m\n\u001b[1;32m     41\u001b[0m         file_dict[\u001b[39m\"\u001b[39m\u001b[39mpath\u001b[39m\u001b[39m\"\u001b[39m] \u001b[39m=\u001b[39m source\n\u001b[0;32m---> 42\u001b[0m     hashData \u001b[39m=\u001b[39m axios\u001b[39m.\u001b[39;49mpost_files(file_dict, headers)\n\u001b[1;32m     43\u001b[0m \u001b[39melse\u001b[39;00m:\n\u001b[1;32m     44\u001b[0m     hashData \u001b[39m=\u001b[39m axios\u001b[39m.\u001b[39mpost_blob(source, source\u001b[39m.\u001b[39mname, headers)\n",
      "File \u001b[0;32m~/miniconda3/envs/ml/lib/python3.10/site-packages/lighthouseweb3/functions/axios.py:58\u001b[0m, in \u001b[0;36mAxios.post_files\u001b[0;34m(self, file, headers, **kwargs)\u001b[0m\n\u001b[1;32m     56\u001b[0m         \u001b[39mreturn\u001b[39;00m json\u001b[39m.\u001b[39mloads(temp[\u001b[39mlen\u001b[39m(temp) \u001b[39m-\u001b[39m \u001b[39m2\u001b[39m])\n\u001b[1;32m     57\u001b[0m \u001b[39mexcept\u001b[39;00m \u001b[39mException\u001b[39;00m \u001b[39mas\u001b[39;00m e:\n\u001b[0;32m---> 58\u001b[0m     utils\u001b[39m.\u001b[39mclose_files_after_upload(files)\n\u001b[1;32m     59\u001b[0m     \u001b[39mraise\u001b[39;00m e\n",
      "\u001b[0;31mUnboundLocalError\u001b[0m: local variable 'files' referenced before assignment"
     ]
    }
   ],
   "source": [
    "upload('../samples/kaggle/inputs/simple-linear-regression.zip')"
   ]
  },
  {
   "cell_type": "code",
   "execution_count": null,
   "metadata": {},
   "outputs": [
    {
     "name": "stderr",
     "output_type": "stream",
     "text": [
      "ic| response: {'data': {'Hash': 'QmRad3MUL5ni3anPE5eU7UUSL3GyPk9kuuH39xA8br8J8d',\n",
      "                        'Name': 'decenter-model-simple-linear-regression.zip',\n",
      "                        'Size': '120951'}}\n"
     ]
    },
    {
     "data": {
      "text/plain": [
       "LighthouseFile(name='decenter-model-simple-linear-regression.zip', hash='QmRad3MUL5ni3anPE5eU7UUSL3GyPk9kuuH39xA8br8J8d', size='120951')"
      ]
     },
     "execution_count": 7,
     "metadata": {},
     "output_type": "execute_result"
    }
   ],
   "source": [
    "upload('../samples/kaggle/outputs/decenter-model-simple-linear-regression.zip')"
   ]
  },
  {
   "cell_type": "code",
   "execution_count": null,
   "metadata": {},
   "outputs": [
    {
     "name": "stderr",
     "output_type": "stream",
     "text": [
      "ic| response: {'data': {'Hash': 'QmRwvooN7Yfa6Gx8aVcf5cV7MAAMHmo5Q5JTt5234jf3qo',\n",
      "                        'Name': 'headbrain.zip',\n",
      "                        'Size': '4033'}}\n"
     ]
    },
    {
     "name": "stdout",
     "output_type": "stream",
     "text": [
      "https://gateway.lighthouse.storage/ipfs/QmRwvooN7Yfa6Gx8aVcf5cV7MAAMHmo5Q5JTt5234jf3qo\n"
     ]
    }
   ],
   "source": [
    "uploaded = upload('../samples/kaggle/inputs/headbrain.zip')\n",
    "print(uploaded.uploaded_url)"
   ]
  },
  {
   "cell_type": "code",
   "execution_count": null,
   "metadata": {},
   "outputs": [
    {
     "data": {
      "text/plain": [
       "'xhttps://gateway.lighthouse.storage/ipfs/QmRwvooN7Yfa6Gx8aVcf5cV7MAAMHmo5Q5JTt5234jf3qo'"
      ]
     },
     "execution_count": 9,
     "metadata": {},
     "output_type": "execute_result"
    }
   ],
   "source": [
    "'x'+str(uploaded.uploaded_url)\n"
   ]
  },
  {
   "cell_type": "code",
   "execution_count": null,
   "metadata": {},
   "outputs": [],
   "source": []
  }
 ],
 "metadata": {
  "kernelspec": {
   "display_name": "ml",
   "language": "python",
   "name": "python3"
  },
  "language_info": {
   "codemirror_mode": {
    "name": "ipython",
    "version": 3
   },
   "file_extension": ".py",
   "mimetype": "text/x-python",
   "name": "python",
   "nbconvert_exporter": "python",
   "pygments_lexer": "ipython3",
   "version": "3.10.12"
  },
  "orig_nbformat": 4
 },
 "nbformat": 4,
 "nbformat_minor": 2
}
