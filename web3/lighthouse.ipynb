{
 "cells": [
  {
   "cell_type": "code",
   "execution_count": 1,
   "metadata": {},
   "outputs": [],
   "source": [
    "import os\n",
    "from dataclasses import dataclass\n",
    "\n",
    "from dotenv import load_dotenv\n",
    "from icecream import ic\n",
    "from lighthouseweb3 import Lighthouse\n",
    "\n",
    "lh = Lighthouse(token='56c91764.0d69cc79074f460c86a9a6d0601a8f65')"
   ]
  },
  {
   "cell_type": "code",
   "execution_count": 2,
   "metadata": {},
   "outputs": [],
   "source": [
    "@dataclass\n",
    "class LighthouseFile:\n",
    "    name: str\n",
    "    hash: str\n",
    "    size: str\n",
    "  \n",
    "  "
   ]
  },
  {
   "cell_type": "code",
   "execution_count": 3,
   "metadata": {},
   "outputs": [],
   "source": [
    "def upload(path: str) -> LighthouseFile:\n",
    "    response = lh.upload(path)\n",
    "    ic(response)\n",
    "\n",
    "    data = response['data']\n",
    "    upFile = LighthouseFile(data['Name'], data['Hash'], data['Size'])\n",
    "\n",
    "    return upFile"
   ]
  },
  {
   "cell_type": "code",
   "execution_count": 4,
   "metadata": {},
   "outputs": [],
   "source": [
    "def download(cid: str, path_to_save: str) -> LighthouseFile:\n",
    "    with open(path_to_save, 'w') as f1:\n",
    "        res = lh.downloadBlob(f1.buffer, cid)\n",
    "        ic(f\"ligthouse:downloaded {path_to_save}\")\n",
    "        data = response['data']\n",
    "        upF1 = LighthouseFile(cid, data['Hash'], data['Size'])\n",
    "        ic(upF1)\n",
    "        return upF1"
   ]
  },
  {
   "cell_type": "code",
   "execution_count": 5,
   "metadata": {},
   "outputs": [
    {
     "data": {
      "text/plain": [
       "'/Users/hiro/Decenter/decenter.streamlit/compute.decenter-ai/web3'"
      ]
     },
     "execution_count": 5,
     "metadata": {},
     "output_type": "execute_result"
    }
   ],
   "source": [
    "os.getcwd()"
   ]
  },
  {
   "cell_type": "code",
   "execution_count": 6,
   "metadata": {},
   "outputs": [
    {
     "name": "stderr",
     "output_type": "stream",
     "text": [
      "ic| response: {'data': {'Hash': 'QmP9xCDVx4N5uVNezeurdepMn9nrynpvuYVvVAZNPmYn1x',\n",
      "                        'Name': 'simple-linear-regression.zip',\n",
      "                        'Size': '19310'}}\n"
     ]
    },
    {
     "data": {
      "text/plain": [
       "LighthouseFile(name='simple-linear-regression.zip', hash='QmP9xCDVx4N5uVNezeurdepMn9nrynpvuYVvVAZNPmYn1x', size='19310')"
      ]
     },
     "execution_count": 6,
     "metadata": {},
     "output_type": "execute_result"
    }
   ],
   "source": [
    "upload('../samples/kaggle/inputs/simple-linear-regression.zip')"
   ]
  },
  {
   "cell_type": "code",
   "execution_count": 7,
   "metadata": {},
   "outputs": [
    {
     "name": "stderr",
     "output_type": "stream",
     "text": [
      "ic| response: {'data': {'Hash': 'QmQxgW29sjguRg2N5FkesASM93iFAbsZSCK6ymqUyRU3A7',\n",
      "                        'Name': 'decenter-model-simple-linear-regression.zip',\n",
      "                        'Size': '120951'}}\n"
     ]
    },
    {
     "data": {
      "text/plain": [
       "LighthouseFile(name='decenter-model-simple-linear-regression.zip', hash='QmQxgW29sjguRg2N5FkesASM93iFAbsZSCK6ymqUyRU3A7', size='120951')"
      ]
     },
     "execution_count": 7,
     "metadata": {},
     "output_type": "execute_result"
    }
   ],
   "source": [
    "upload('../samples/kaggle/outputs/decenter-model-simple-linear-regression.zip')"
   ]
  }
 ],
 "metadata": {
  "kernelspec": {
   "display_name": "ml",
   "language": "python",
   "name": "python3"
  },
  "language_info": {
   "codemirror_mode": {
    "name": "ipython",
    "version": 3
   },
   "file_extension": ".py",
   "mimetype": "text/x-python",
   "name": "python",
   "nbconvert_exporter": "python",
   "pygments_lexer": "ipython3",
   "version": "3.10.12"
  },
  "orig_nbformat": 4
 },
 "nbformat": 4,
 "nbformat_minor": 2
}
